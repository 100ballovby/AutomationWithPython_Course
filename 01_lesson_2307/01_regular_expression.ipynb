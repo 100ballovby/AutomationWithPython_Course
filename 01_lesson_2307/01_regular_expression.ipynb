{
 "cells": [
  {
   "cell_type": "markdown",
   "metadata": {
    "collapsed": true
   },
   "source": [
    "# Регулярочки\n",
    "\n",
    "<pre>\n",
    "Оператор Описание\n",
    ". Один любой символ, кроме новой строки \\n.\n",
    "? 0 или 1 вхождение шаблона слева\n",
    "+ 1 и более вхождений шаблона слева\n",
    "* 0 и более вхождений шаблона слева\n",
    "\\w Любая цифра или буква (\\W — все, кроме буквы или цифры)\n",
    "\\d Любая цифра [0-9] (\\D — все, кроме цифры)\n",
    "\\s Любой пробельный символ (\\S — любой непробельный символ)\n",
    "\\b Граница слова\n",
    "[..] Один из символов в скобках ([^..] — любой символ, кроме тех, что в скобках)\n",
    "\\ Экранирование специальных символов (\\. означает точку или \\+ — знак «плюс»)\n",
    "^ и $ Начало и конец строки соответственно\n",
    "{n,m} От n до m вхождений ({,m} — от 0 до m)\n",
    "a|b Соответствует a или b\n",
    "() Группирует выражение и возвращает найденный текст\n",
    "\\t, \\n, \\r Символ табуляции, новой строки и возврата каретки соответственно\n",
    "</pre>"
   ]
  },
  {
   "cell_type": "code",
   "execution_count": 19,
   "metadata": {},
   "outputs": [
    {
     "data": {
      "text/plain": [
       "True"
      ]
     },
     "execution_count": 19,
     "metadata": {},
     "output_type": "execute_result"
    }
   ],
   "source": [
    "x = 'Привет'\n",
    "\n",
    "x in 'Привет, Андрей'"
   ]
  },
  {
   "cell_type": "code",
   "execution_count": 19,
   "metadata": {},
   "outputs": [],
   "source": []
  }
 ],
 "metadata": {
  "kernelspec": {
   "display_name": "Python 3 (ipykernel)",
   "language": "python",
   "name": "python3"
  },
  "language_info": {
   "codemirror_mode": {
    "name": "ipython",
    "version": 3
   },
   "file_extension": ".py",
   "mimetype": "text/x-python",
   "name": "python",
   "nbconvert_exporter": "python",
   "pygments_lexer": "ipython3",
   "version": "3.7.1"
  }
 },
 "nbformat": 4,
 "nbformat_minor": 1
}
