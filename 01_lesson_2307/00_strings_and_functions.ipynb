{
 "cells": [
  {
   "cell_type": "markdown",
   "metadata": {
    "collapsed": true
   },
   "source": [
    "## Cтрочки\n",
    "\n",
    "Строка - это последовательность символов, заключенная в кавычки. Кавычки могут быть '' и \"\". Начинаться строка должна с одного типа кавычек и заканчиваться им же.\n",
    "\n",
    "Вот пример hello, world (сложный)"
   ]
  },
  {
   "cell_type": "code",
   "execution_count": 1,
   "metadata": {},
   "outputs": [
    {
     "name": "stdout",
     "output_type": "stream",
     "text": [
      "hello, world \n"
     ]
    }
   ],
   "source": [
    "import sys\n",
    "\n",
    "\n",
    "class Hello:\n",
    "    def __init__(self):\n",
    "        self.message = 'hello, world \\n'\n",
    "        \n",
    "    def say(self):\n",
    "        sys.stdout.write(self.message)\n",
    "\n",
    "\n",
    "h = Hello()\n",
    "h.say()"
   ]
  },
  {
   "cell_type": "markdown",
   "metadata": {},
   "source": [
    "## Задача: очистить номер телефона от лишних символов: + - ( )"
   ]
  },
  {
   "cell_type": "code",
   "execution_count": 2,
   "metadata": {},
   "outputs": [
    {
     "name": "stdout",
     "output_type": "stream",
     "text": [
      "Введите сообщение: 4\n",
      "4\n"
     ]
    }
   ],
   "source": [
    "msg = input('Введите сообщение: ')\n",
    "phone = ''\n",
    "for symbol in msg:\n",
    "    print(symbol)\n",
    "\n"
   ]
  },
  {
   "cell_type": "markdown",
   "metadata": {},
   "source": [
    "## Особое присваивание\n",
    "\n",
    "Есть переменная x, котрой присвоили 0."
   ]
  },
  {
   "cell_type": "code",
   "execution_count": 6,
   "metadata": {},
   "outputs": [],
   "source": [
    "x = 0"
   ]
  },
  {
   "cell_type": "markdown",
   "metadata": {},
   "source": [
    "Я хочу увеличить значение переменной и сразу его сохранить в ней."
   ]
  },
  {
   "cell_type": "code",
   "execution_count": 7,
   "metadata": {},
   "outputs": [
    {
     "name": "stdout",
     "output_type": "stream",
     "text": [
      "x = 1\n"
     ]
    }
   ],
   "source": [
    "x = x + 1\n",
    "print(f'x = {x}')"
   ]
  },
  {
   "cell_type": "markdown",
   "metadata": {},
   "source": [
    "## Инкремент\n",
    "\n",
    "Это увеличение значения с присваиванием.\n",
    "Чтобы не писать длинную форму, был придуман оператор <code>+=</code>"
   ]
  },
  {
   "cell_type": "code",
   "execution_count": 8,
   "metadata": {
    "scrolled": true
   },
   "outputs": [
    {
     "name": "stdout",
     "output_type": "stream",
     "text": [
      "x = 2\n"
     ]
    }
   ],
   "source": [
    "x += 1\n",
    "print(f'x = {x}')"
   ]
  },
  {
   "cell_type": "markdown",
   "metadata": {},
   "source": [
    "## Декремент\n",
    "\n",
    "Это уменьшение значения с присваиванием.\n",
    "Чтобы не писать длинную форму, был придуман оператор <code>-=</code>\n",
    "\n",
    "<ul>\n",
    "    <li><code>*=</code></li>\n",
    "    <li><code>/=</code></li>\n",
    "    <li><code>//=</code></li>\n",
    "    <li><code>%=</code></li>\n",
    "    <li><code>**=</code></li>\n",
    "</ul>"
   ]
  },
  {
   "cell_type": "code",
   "execution_count": 9,
   "metadata": {},
   "outputs": [
    {
     "name": "stdout",
     "output_type": "stream",
     "text": [
      "Введите сообщение: +375 (29) 356-17-91 \n",
      "375293561791\n"
     ]
    }
   ],
   "source": [
    "msg = input('Введите сообщение: ')\n",
    "phone = ''\n",
    "for symbol in msg:\n",
    "    if symbol.isdigit():  # если символ - число\n",
    "        phone += symbol  # я добавляю его в переменную\n",
    "print(phone)"
   ]
  },
  {
   "cell_type": "code",
   "execution_count": 10,
   "metadata": {},
   "outputs": [
    {
     "name": "stdout",
     "output_type": "stream",
     "text": [
      "The Zen of Python, by Tim Peters\n",
      "\n",
      "Beautiful is better than ugly.\n",
      "Explicit is better than implicit.\n",
      "Simple is better than complex.\n",
      "Complex is better than complicated.\n",
      "Flat is better than nested.\n",
      "Sparse is better than dense.\n",
      "Readability counts.\n",
      "Special cases aren't special enough to break the rules.\n",
      "Although practicality beats purity.\n",
      "Errors should never pass silently.\n",
      "Unless explicitly silenced.\n",
      "In the face of ambiguity, refuse the temptation to guess.\n",
      "There should be one-- and preferably only one --obvious way to do it.\n",
      "Although that way may not be obvious at first unless you're Dutch.\n",
      "Now is better than never.\n",
      "Although never is often better than *right* now.\n",
      "If the implementation is hard to explain, it's a bad idea.\n",
      "If the implementation is easy to explain, it may be a good idea.\n",
      "Namespaces are one honking great idea -- let's do more of those!\n"
     ]
    }
   ],
   "source": [
    "import this"
   ]
  },
  {
   "cell_type": "markdown",
   "metadata": {},
   "source": [
    "## Функция\n",
    "\n",
    "<b>DRY</b> - don't repeat yourself.\n",
    "Код, который вы пишете, должен быть написан РОВНО 1 раз. Не более. \n",
    "\n",
    "<code>\n",
    "def name(arguments):\n",
    "    action\n",
    "</code>"
   ]
  },
  {
   "cell_type": "code",
   "execution_count": 11,
   "metadata": {},
   "outputs": [],
   "source": [
    "def say_hello(name):\n",
    "    print(f'Привет, {name}!')"
   ]
  },
  {
   "cell_type": "markdown",
   "metadata": {},
   "source": [
    "Функция НЕ РАБОТАЕТ, пока вы ее не вызвали. По имени."
   ]
  },
  {
   "cell_type": "code",
   "execution_count": 12,
   "metadata": {},
   "outputs": [
    {
     "name": "stdout",
     "output_type": "stream",
     "text": [
      "Привет, Демид!\n"
     ]
    }
   ],
   "source": [
    "say_hello('Демид')"
   ]
  },
  {
   "cell_type": "code",
   "execution_count": 13,
   "metadata": {},
   "outputs": [
    {
     "name": "stdout",
     "output_type": "stream",
     "text": [
      "Привет, Маша!\n",
      "Привет, Мелания!\n",
      "Привет, Матвей!\n",
      "Привет, Денис!\n",
      "Привет, Глеб!\n"
     ]
    }
   ],
   "source": [
    "peoples = ['Маша', 'Мелания', 'Матвей', 'Денис', 'Глеб',]\n",
    "\n",
    "for name in peoples:\n",
    "    say_hello(name)"
   ]
  },
  {
   "cell_type": "code",
   "execution_count": 14,
   "metadata": {},
   "outputs": [
    {
     "name": "stdout",
     "output_type": "stream",
     "text": [
      "375291235674\n",
      "375335667341\n",
      "375333671298\n"
     ]
    }
   ],
   "source": [
    "def clear_number(r_phone):\n",
    "    phone = ''\n",
    "    for symbol in r_phone:\n",
    "        if symbol.isdigit():  # если символ - число\n",
    "            phone += symbol  # я добавляю его в переменную\n",
    "    print(phone)\n",
    "\n",
    "clear_number('+375(29)1235674')\n",
    "clear_number('+375 33 5667-34-1')\n",
    "clear_number('+375 (33) - 367-12 98')"
   ]
  },
  {
   "cell_type": "code",
   "execution_count": null,
   "metadata": {},
   "outputs": [],
   "source": []
  }
 ],
 "metadata": {
  "kernelspec": {
   "display_name": "Python 3 (ipykernel)",
   "language": "python",
   "name": "python3"
  },
  "language_info": {
   "codemirror_mode": {
    "name": "ipython",
    "version": 3
   },
   "file_extension": ".py",
   "mimetype": "text/x-python",
   "name": "python",
   "nbconvert_exporter": "python",
   "pygments_lexer": "ipython3",
   "version": "3.7.1"
  }
 },
 "nbformat": 4,
 "nbformat_minor": 1
}
