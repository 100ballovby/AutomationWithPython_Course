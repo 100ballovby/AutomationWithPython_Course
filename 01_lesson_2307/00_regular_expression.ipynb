{
 "cells": [
  {
   "cell_type": "markdown",
   "metadata": {
    "collapsed": true
   },
   "source": [
    "# Регулярочки\n",
    "\n",
    "Оператор Описание\n",
    ". Один любой символ, кроме новой строки \\n.\n",
    "? 0 или 1 вхождение шаблона слева\n",
    "+ 1 и более вхождений шаблона слева\n",
    "* 0 и более вхождений шаблона слева\n",
    "\\w Любая цифра или буква (\\W — все, кроме буквы или цифры)\n",
    "\\d Любая цифра [0-9] (\\D — все, кроме цифры)\n",
    "\\s Любой пробельный символ (\\S — любой непробельный символ)\n",
    "\\b Граница слова\n",
    "[..] Один из символов в скобках ([^..] — любой символ, кроме тех, что в скобках)\n",
    "\\ Экранирование специальных символов (\\. означает точку или \\+ — знак «плюс»)\n",
    "^ и $ Начало и конец строки соответственно\n",
    "{n,m} От n до m вхождений ({,m} — от 0 до m)\n",
    "a|b Соответствует a или b\n",
    "() Группирует выражение и возвращает найденный текст\n",
    "\\t, \\n, \\r Символ табуляции, новой строки и возврата каретки соответственно"
   ]
  },
  {
   "cell_type": "code",
   "execution_count": 1,
   "metadata": {},
   "outputs": [
    {
     "data": {
      "text/plain": [
       "True"
      ]
     },
     "execution_count": 1,
     "metadata": {},
     "output_type": "execute_result"
    }
   ],
   "source": [
    "x = 'Привет'\n",
    "\n",
    "x in 'Привет, Андрей'"
   ]
  },
  {
   "cell_type": "code",
   "execution_count": 2,
   "metadata": {},
   "outputs": [],
   "source": [
    "import re"
   ]
  },
  {
   "cell_type": "markdown",
   "metadata": {},
   "source": [
    "Методы\n",
    "\n",
    "<p><code>re.findall()</code> - он ищет по шаблону и возвращает ВСЕ вхождения.</p>\n",
    "<p><code>re.find()</code> - он ищет по шаблону и возвращает первое вхождения.</p>\n",
    "<p><code>re.compile()</code> - он создает объект-регулярное выражение, которое потом можно использовать для поиска</p>\n",
    "<p><code>re.find()</code> - он находит объект и возвращает его</p>\n",
    "<p><code>re.group()</code> - он выводит то, что нашел</p>"
   ]
  },
  {
   "cell_type": "code",
   "execution_count": 3,
   "metadata": {},
   "outputs": [
    {
     "name": "stdout",
     "output_type": "stream",
     "text": [
      "497-555-0100\n"
     ]
    }
   ],
   "source": [
    "import re  # импортирую регулярки\n",
    "\n",
    "# My number is: 497-555-0100\n",
    "phoneRegex = re.compile(r'\\d\\d\\d-\\d\\d\\d-\\d\\d\\d\\d')  # создаю объект для поиска\n",
    "search = phoneRegex.search('My number is: 497-555-0100, thank you!')\n",
    "print(search.group())\n"
   ]
  },
  {
   "cell_type": "markdown",
   "metadata": {},
   "source": [
    "## Как работать?\n",
    "\n",
    "<ol>\n",
    "    <li>Импортируем библиотеку re</li>\n",
    "    <li>Создаем объект-регулярное выражение с помощью <code>re.compile</code>. Не забываем про r'' пере строкой.</li>\n",
    "    <li>Передайте строчку, в которой надо что-то найти. Искать методом <code>re.search</code> </li>\n",
    "    <li>Вызываем <code>re.group</code>, чтобы увидеть результат.</li>\n",
    "</ol>"
   ]
  },
  {
   "cell_type": "markdown",
   "metadata": {},
   "source": [
    "## Задача про email.\n",
    "\n",
    "Надо найти email среди текста, который передает нам пользователь.\n",
    "\n",
    "<p>Email всегда состоит из текста@domain.com и это можно использовать как шаблон для поиска регулярным выражением.</p>\n",
    "\n",
    "<p>Шаблон поиска получился: символ @, потом любое количество символов, потом точка и любое количество символов</p>"
   ]
  },
  {
   "cell_type": "code",
   "execution_count": 8,
   "metadata": {},
   "outputs": [
    {
     "name": "stdout",
     "output_type": "stream",
     "text": [
      "@chotomail.com\n",
      "Такой домен не существует!\n",
      "@protonmail.online\n",
      "Такой домен не существует!\n",
      "@yandex.ru\n",
      "Ок\n"
     ]
    }
   ],
   "source": [
    "import re\n",
    "\n",
    "\n",
    "def check_email(email):\n",
    "    domains = ['@gmail.com',\n",
    "               '@yandex.ru',\n",
    "               '@mail.ru',\n",
    "               '@icloud.com']\n",
    "    emailRegex = re.compile(r'@\\w+.\\w+')\n",
    "    search = emailRegex.search(email)\n",
    "    print(search.group())\n",
    "    if search.group() in domains:\n",
    "        print('Ок')\n",
    "    else:\n",
    "        print('Такой домен не существует!')\n",
    "\n",
    "\n",
    "check_email('Мой имейл это: emai@chotomail.com, держи')\n",
    "check_email('Мой имейл это: emai@protonmail.online, держи')\n",
    "check_email('Мой имейл это: emai@yandex.ru, держи')\n",
    "\n"
   ]
  },
  {
   "cell_type": "markdown",
   "metadata": {},
   "source": [
    "## Достать слова, начинающиеся на определенную букву"
   ]
  },
  {
   "cell_type": "code",
   "execution_count": 17,
   "metadata": {},
   "outputs": [
    {
     "name": "stdout",
     "output_type": "stream",
     "text": [
      "['А', 'я', 'около', 'ежа', 'он', 'ел', 'и', 'апельсиновый']\n"
     ]
    }
   ],
   "source": [
    "import re\n",
    "\n",
    "\n",
    "def find_letters(message):\n",
    "    wordRegex = re.compile(r'\\b[АЕОУЫЯИЭЮаеоуыяиэю]\\w*')\n",
    "    search = re.findall(wordRegex, message)\n",
    "    print(search)\n",
    "    \n",
    "\n",
    "find_letters('А я вчера был около ежа он ел траву и пил апельсиновый сок')"
   ]
  },
  {
   "cell_type": "markdown",
   "metadata": {},
   "source": [
    "# ДЗ\n",
    "\n",
    "<ol>\n",
    "    <li>Написать регулярку, которая разбивает строку, которую вводит пользователь, на отдельные слова.</li>\n",
    "    <li>Написать регулярку, которая выводит по две первые буквы из каждого слова в строке.</li>\n",
    "</ol>"
   ]
  },
  {
   "cell_type": "code",
   "execution_count": null,
   "metadata": {},
   "outputs": [],
   "source": []
  }
 ],
 "metadata": {
  "kernelspec": {
   "display_name": "Python 3 (ipykernel)",
   "language": "python",
   "name": "python3"
  },
  "language_info": {
   "codemirror_mode": {
    "name": "ipython",
    "version": 3
   },
   "file_extension": ".py",
   "mimetype": "text/x-python",
   "name": "python",
   "nbconvert_exporter": "python",
   "pygments_lexer": "ipython3",
   "version": "3.7.1"
  }
 },
 "nbformat": 4,
 "nbformat_minor": 1
}
