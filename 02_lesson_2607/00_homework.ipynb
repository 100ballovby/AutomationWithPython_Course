{
 "cells": [
  {
   "cell_type": "code",
   "execution_count": 1,
   "metadata": {},
   "outputs": [
    {
     "data": {
      "text/plain": [
       "True"
      ]
     },
     "execution_count": 1,
     "metadata": {},
     "output_type": "execute_result"
    }
   ],
   "source": [
    "a = 'Здравствуйте, как мариновать огурцы?!'\n",
    "'огурцы' in a"
   ]
  },
  {
   "cell_type": "code",
   "execution_count": 2,
   "metadata": {},
   "outputs": [
    {
     "data": {
      "text/plain": [
       "True"
      ]
     },
     "execution_count": 2,
     "metadata": {},
     "output_type": "execute_result"
    }
   ],
   "source": [
    "'о' in a"
   ]
  },
  {
   "cell_type": "markdown",
   "metadata": {},
   "source": [
    "## Можно разбивать строку на слова не используя регулярные выражения"
   ]
  },
  {
   "cell_type": "code",
   "execution_count": 6,
   "metadata": {},
   "outputs": [
    {
     "data": {
      "text/plain": [
       "['Здравствуйте,', 'как', 'мариновать', 'огурцы']"
      ]
     },
     "execution_count": 6,
     "metadata": {},
     "output_type": "execute_result"
    }
   ],
   "source": [
    "a.split()  # превращаем строчку в список"
   ]
  },
  {
   "cell_type": "markdown",
   "metadata": {},
   "source": [
    "## Но лучше использовать регулярные выражения"
   ]
  },
  {
   "cell_type": "code",
   "execution_count": 21,
   "metadata": {},
   "outputs": [
    {
     "name": "stdout",
     "output_type": "stream",
     "text": [
      "Здравствуйте, как, мариновать, огурцы!\n"
     ]
    }
   ],
   "source": [
    "import re\n",
    "\n",
    "def split_words(message):\n",
    "    regex = re.compile(r'\\w+')\n",
    "    res = regex.findall(message)\n",
    "    print(*res, sep=', ', end='!\\n')  # символ * перед коллекцией распаковывает эту коллекцию\n",
    "    \n",
    "\n",
    "split_words(a)"
   ]
  },
  {
   "cell_type": "code",
   "execution_count": 20,
   "metadata": {},
   "outputs": [
    {
     "name": "stdout",
     "output_type": "stream",
     "text": [
      "Привет \n",
      "Андрей\n",
      "!!!\n"
     ]
    }
   ],
   "source": [
    "print('Привет \\nАндрей')\n",
    "print('!!!')"
   ]
  },
  {
   "cell_type": "code",
   "execution_count": 30,
   "metadata": {},
   "outputs": [
    {
     "name": "stdout",
     "output_type": "stream",
     "text": [
      "['Зд', 'ка', 'ма', 'ог']!\n"
     ]
    }
   ],
   "source": [
    "import re\n",
    "\n",
    "def two_letters(message):\n",
    "    regex = re.compile(r'\\b\\w{2}')\n",
    "    res = regex.findall(message)\n",
    "    print(res, sep=', ', end='!\\n')  # символ * перед коллекцией распаковывает эту коллекцию\n",
    "    \n",
    "\n",
    "two_letters(a)"
   ]
  },
  {
   "cell_type": "code",
   "execution_count": 38,
   "metadata": {},
   "outputs": [
    {
     "name": "stdout",
     "output_type": "stream",
     "text": [
      "['#4f746e', '#000d2e']\n",
      "['#0000FF']\n"
     ]
    }
   ],
   "source": [
    "def find_hex_color(text):\n",
    "    regex = re.compile(r'#[0-9a-fA-F]{6}')\n",
    "    res = regex.findall(text)\n",
    "    print(res)\n",
    "    \n",
    "example = '''Hexadecimal color values are also supported in all browsers.\n",
    "\n",
    "A hexadecimal color is specified with: #RRGGBB.\n",
    "\n",
    "RR (red), GG (green) and BB (blue) are hexadecimal integers between 00 and FF specifying the intensity of the color.\n",
    "\n",
    "For example, #0000FF is displayed as blue, because the blue component is set to its highest value (FF) and the others are set to 00.'''\n",
    "    \n",
    "find_hex_color('Hello, there is some HTML formatted colors in hex: #4f746e #222 #000d2e #r23opz')\n",
    "find_hex_color(example)"
   ]
  },
  {
   "cell_type": "markdown",
   "metadata": {},
   "source": [
    "<p>Цвета можно задавать через <code>rgb(0, 255, 125)</code> - значения от 0 до 255</p>"
   ]
  },
  {
   "cell_type": "markdown",
   "metadata": {},
   "source": [
    "## IP-адреса\n",
    "\n",
    "<p>Необходимо удалить нули из IP-адреса, который передаст пользователь.</p>\n",
    "<p>IP обычно имеет вид 192.008.015.250</p>"
   ]
  },
  {
   "cell_type": "code",
   "execution_count": 43,
   "metadata": {},
   "outputs": [
    {
     "name": "stdout",
     "output_type": "stream",
     "text": [
      "192.8.15.250\n"
     ]
    }
   ],
   "source": [
    "def clear_ip(ip):\n",
    "    res = re.sub(r'\\.[0]*', '.', ip)\n",
    "    print(res)\n",
    "    \n",
    "clear_ip('192.008.015.250')"
   ]
  },
  {
   "cell_type": "markdown",
   "metadata": {},
   "source": [
    "## Даты\n",
    "\n",
    "<p>YYYY-MM-DD - американский формат даты. Необходимо написать программу, которая переделает дату в формат DD-MM-YYYY</p>"
   ]
  },
  {
   "cell_type": "code",
   "execution_count": 50,
   "metadata": {},
   "outputs": [
    {
     "name": "stdout",
     "output_type": "stream",
     "text": [
      "12.14.2021 31.2.1999\n"
     ]
    }
   ],
   "source": [
    "def change_date(dt):\n",
    "    res = re.sub(r'(\\d{4})-(\\d{1,2})-(\\d{1,2})', '\\\\3.\\\\2.\\\\1', dt)\n",
    "    print(res)\n",
    "    \n",
    "change_date('2021-14-12 1999-2-31')"
   ]
  },
  {
   "cell_type": "code",
   "execution_count": null,
   "metadata": {},
   "outputs": [],
   "source": []
  }
 ],
 "metadata": {
  "kernelspec": {
   "display_name": "Python 3 (ipykernel)",
   "language": "python",
   "name": "python3"
  },
  "language_info": {
   "codemirror_mode": {
    "name": "ipython",
    "version": 3
   },
   "file_extension": ".py",
   "mimetype": "text/x-python",
   "name": "python",
   "nbconvert_exporter": "python",
   "pygments_lexer": "ipython3",
   "version": "3.7.1"
  }
 },
 "nbformat": 4,
 "nbformat_minor": 1
}