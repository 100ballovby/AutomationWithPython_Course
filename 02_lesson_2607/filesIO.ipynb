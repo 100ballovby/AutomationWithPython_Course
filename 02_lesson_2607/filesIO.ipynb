{
 "cells": [
  {
   "cell_type": "markdown",
   "metadata": {
    "collapsed": true
   },
   "source": [
    "## Файлы и пути к ним\n",
    "\n",
    "<p>Файлы имеют путь - то есть место, где файл находится. В ос пути к файлам пишутся по-разному.</p>\n",
    "<p><b>Windows:</b> C:\\Data\\Users\\folder\\file.txt<br>\n",
    "    <b>Linux/Mac:</b> /Data/Users/folder/file.txt</p>\n",
    "    \n",
    "<p>Когда вы работаете с файлами и путями, ваша программа должна быть универсальной.</p>"
   ]
  },
  {
   "cell_type": "code",
   "execution_count": 8,
   "metadata": {},
   "outputs": [
    {
     "name": "stdout",
     "output_type": "stream",
     "text": [
      "C:/Documents/News/New Folder\n",
      "Documents\\News\\file.txt\n"
     ]
    }
   ],
   "source": [
    "# Объект, у которого есть 2 важных элемента - имя и расширение\n",
    "import os  # позволяет работать с файлами операционной системы\n",
    "\n",
    "path = os.path.join('C:', 'Documents', 'News', 'New Folder')\n",
    "path2 = r'Documents\\News\\file.txt' # <- вот это плохой вариант, потому что путь жестко закодирован в формате ОС Windows\n",
    "\n",
    "print(path)\n",
    "print(path2)"
   ]
  },
  {
   "cell_type": "markdown",
   "metadata": {},
   "source": [
    "<p>Нужно добавить путь к названиям нескольких файлов.</p>"
   ]
  },
  {
   "cell_type": "code",
   "execution_count": 9,
   "metadata": {},
   "outputs": [
    {
     "name": "stdout",
     "output_type": "stream",
     "text": [
      "C:/Documents/News/New Folder/math.docx\n",
      "C:/Documents/News/New Folder/details.csv\n",
      "C:/Documents/News/New Folder/ozenki.pdf\n"
     ]
    }
   ],
   "source": [
    "files = ['math.docx', 'details.csv', 'ozenki.pdf']\n",
    "\n",
    "for file in files:\n",
    "    print(os.path.join(path, file))"
   ]
  },
  {
   "cell_type": "markdown",
   "metadata": {},
   "source": [
    "## Текущий рабочий каталог\n",
    "\n",
    "<p>Каждая программа, которая запущена на вашем компьютере, имеет папку, в которой она работает. Эта штука называется - текущий рабочий каталог. И его можно найти.</p>"
   ]
  },
  {
   "cell_type": "code",
   "execution_count": 11,
   "metadata": {},
   "outputs": [
    {
     "name": "stdout",
     "output_type": "stream",
     "text": [
      "/Users/demidraksin/PycharmProjects/AutomationWithPython/02_lesson_2607\n"
     ]
    }
   ],
   "source": [
    "print(os.getcwd())"
   ]
  },
  {
   "cell_type": "markdown",
   "metadata": {},
   "source": [
    "## Пути\n",
    "\n",
    "<ul>\n",
    "    <li>Относительные - путь, который задается относительно рабочего каталога. ..\\Documents\\file.txt</li>\n",
    "    <li>Абсолютные - путь, который всегда начинается с имени корневой папки. C:\\Users\\User\\Documents\\file.txt</li>\n",
    "</ul>\n",
    "\n",
    "<p>Вы можете создавать папки командой.</p>\n",
    "\n"
   ]
  },
  {
   "cell_type": "code",
   "execution_count": 15,
   "metadata": {},
   "outputs": [],
   "source": [
    "os.makedirs('example')"
   ]
  },
  {
   "cell_type": "code",
   "execution_count": 26,
   "metadata": {},
   "outputs": [
    {
     "name": "stdout",
     "output_type": "stream",
     "text": [
      "/Users/demidraksin/PycharmProjects/AutomationWithPython/02_lesson_2607/00_turtle.py\n",
      "False\n",
      "../00_turtle.py\n"
     ]
    }
   ],
   "source": [
    "print(os.path.abspath('00_turtle.py'))  # выдать абсолютный путь для файла/каталога\n",
    "print(os.path.isabs('./00_turtle.py'))  # возвращает True, если путь абсолютный\n",
    "print(os.path.relpath('00_turtle.py', 'AutomationWithPython'))  # возвращает строку относительноого пути"
   ]
  },
  {
   "cell_type": "markdown",
   "metadata": {},
   "source": [
    "## Определение размеров файлов и содержимого папок\n",
    "\n",
    "<ul>\n",
    "    <li><code>os.path.getsize(file)</code> - это для определения размера файла (вес)</li>\n",
    "    <li><code>os.listdir()</code> - это для того, чтобы показать дерево папок</li>\n",
    "</ul>"
   ]
  },
  {
   "cell_type": "code",
   "execution_count": 28,
   "metadata": {},
   "outputs": [
    {
     "name": "stdout",
     "output_type": "stream",
     "text": [
      "6285 байт\n"
     ]
    }
   ],
   "source": [
    "print(os.path.getsize('00_homework.ipynb'), 'байт')"
   ]
  },
  {
   "cell_type": "code",
   "execution_count": 41,
   "metadata": {},
   "outputs": [
    {
     "name": "stdout",
     "output_type": "stream",
     "text": [
      "/Users/demidraksin/PycharmProjects/AutomationWithPython/02_lesson_2607\n"
     ]
    }
   ],
   "source": [
    "print(os.getcwd())"
   ]
  },
  {
   "cell_type": "code",
   "execution_count": 54,
   "metadata": {},
   "outputs": [
    {
     "name": "stdout",
     "output_type": "stream",
     "text": [
      "['00_lesson_1907', '01_lesson_2307', '.gitignore', '.ipynb_checkpoints', 'venv', '.git', '02_lesson_2607', '.idea']\n"
     ]
    }
   ],
   "source": [
    "directory = '/Users/demidraksin/PycharmProjects/AutomationWithPython/'\n",
    "print(os.listdir(directory))"
   ]
  },
  {
   "cell_type": "markdown",
   "metadata": {},
   "source": [
    "## Задача\n",
    "\n",
    "<p>Надо посчитать общий вес всех файлов в директории.</p>"
   ]
  },
  {
   "cell_type": "code",
   "execution_count": 53,
   "metadata": {},
   "outputs": [
    {
     "name": "stdout",
     "output_type": "stream",
     "text": [
      "17252 байт\n"
     ]
    }
   ],
   "source": [
    "total_size = 0\n",
    "\n",
    "for file in os.listdir(directory):\n",
    "    total_size += os.path.getsize(os.path.join(directory, file))\n",
    "    \n",
    "print(total_size, 'байт')"
   ]
  },
  {
   "cell_type": "markdown",
   "metadata": {},
   "source": [
    "## Проверка существования пути\n",
    "\n",
    "<ul>\n",
    "    <li><code>os.path.exists(path)</code> - возвращает True, если файл/папка, на который ссылаются, существует</li>\n",
    "    <li><code>os.path.isfile(file)</code> - возвращает True, если объект является файлом</li>\n",
    "    <li><code>os.path.isdir(directory)</code> - возвращает True, если объект является папкой</li>\n",
    "</ul>"
   ]
  },
  {
   "cell_type": "code",
   "execution_count": 56,
   "metadata": {},
   "outputs": [
    {
     "name": "stdout",
     "output_type": "stream",
     "text": [
      "Папка TBD существует:  False\n"
     ]
    }
   ],
   "source": [
    "print('Папка TBD существует: ', os.path.exists('/Users/demidraksin/PycharmProjects/AutomationWithPython/TBD'))  # False"
   ]
  },
  {
   "cell_type": "code",
   "execution_count": 60,
   "metadata": {},
   "outputs": [
    {
     "name": "stdout",
     "output_type": "stream",
     "text": [
      "Я сделал папку\n"
     ]
    }
   ],
   "source": [
    "if os.path.exists('/Users/demidraksin/PycharmProjects/AutomationWithPython/TBD'):\n",
    "    print('Я не буду делать папку')\n",
    "else:\n",
    "    os.makedirs('TBD')\n",
    "    print('Я сделал папку')"
   ]
  },
  {
   "cell_type": "code",
   "execution_count": 63,
   "metadata": {},
   "outputs": [
    {
     "name": "stdout",
     "output_type": "stream",
     "text": [
      ".git -  это файл: False\n"
     ]
    }
   ],
   "source": [
    "print('.git -  это файл:', os.path.isfile('/Users/demidraksin/PycharmProjects/AutomationWithPython/.git'))"
   ]
  },
  {
   "cell_type": "code",
   "execution_count": 64,
   "metadata": {},
   "outputs": [
    {
     "name": "stdout",
     "output_type": "stream",
     "text": [
      ".git -  это папка: True\n"
     ]
    }
   ],
   "source": [
    "print('.git -  это папка:', os.path.isdir('/Users/demidraksin/PycharmProjects/AutomationWithPython/.git'))"
   ]
  },
  {
   "cell_type": "code",
   "execution_count": null,
   "metadata": {},
   "outputs": [],
   "source": []
  }
 ],
 "metadata": {
  "kernelspec": {
   "display_name": "Python 3 (ipykernel)",
   "language": "python",
   "name": "python3"
  },
  "language_info": {
   "codemirror_mode": {
    "name": "ipython",
    "version": 3
   },
   "file_extension": ".py",
   "mimetype": "text/x-python",
   "name": "python",
   "nbconvert_exporter": "python",
   "pygments_lexer": "ipython3",
   "version": "3.7.1"
  }
 },
 "nbformat": 4,
 "nbformat_minor": 1
}