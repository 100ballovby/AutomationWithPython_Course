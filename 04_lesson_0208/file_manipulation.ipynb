{
 "cells": [
  {
   "cell_type": "markdown",
   "metadata": {
    "collapsed": true
   },
   "source": [
    "## Управление файлами\n",
    "\n",
    "<p><code>shutil</code> - shell utilities - модуль, позволяющий вам управлять (удалять, переименовывать, перемещать) файлми и папками на компьютере.</p>"
   ]
  },
  {
   "cell_type": "code",
   "execution_count": 2,
   "metadata": {},
   "outputs": [],
   "source": [
    "import shutil\n",
    "import os\n",
    "\n",
    "pr_folder = os.getcwd()"
   ]
  },
  {
   "cell_type": "code",
   "execution_count": 8,
   "metadata": {},
   "outputs": [
    {
     "data": {
      "text/plain": [
       "'copy_here/file_manipulation.ipynb'"
      ]
     },
     "execution_count": 8,
     "metadata": {},
     "output_type": "execute_result"
    }
   ],
   "source": [
    "try:\n",
    "    os.mkdir('copy_here') # пытаюсь создать папку copy_here\n",
    "except:\n",
    "    pass\n",
    "\n",
    "shutil.copy(pr_folder + '/file_manipulation.ipynb', 'copy_here')"
   ]
  },
  {
   "cell_type": "markdown",
   "metadata": {},
   "source": [
    "<p><code>shutil.copy(path, end_path)</code> принимает два аргумента. Первый - это место, где лежит файл, второй - место, КУДА нужно скопировать файл.</p>"
   ]
  },
  {
   "cell_type": "markdown",
   "metadata": {},
   "source": [
    "<p>Для перемещения файлов используется метод <code>shutil.move(path, end_path)</code></p>"
   ]
  },
  {
   "cell_type": "code",
   "execution_count": 9,
   "metadata": {},
   "outputs": [
    {
     "data": {
      "text/plain": [
       "'/Users/demidraksin/PycharmProjects/AutomationWithPython/04_lesson_0208/file_manipulation2.ipynb'"
      ]
     },
     "execution_count": 9,
     "metadata": {},
     "output_type": "execute_result"
    }
   ],
   "source": [
    "shutil.move(\n",
    "    os.path.join(pr_folder, 'copy_here', 'file_manipulation2.ipynb'),\n",
    "    pr_folder\n",
    ")"
   ]
  },
  {
   "cell_type": "markdown",
   "metadata": {},
   "source": [
    "# Удаление (АККУРАТНА ПЛЕЗ)\n",
    "\n",
    "<p>Чтобы удалять файлы, используется метод <code>os.unlink(file)</code></p>"
   ]
  },
  {
   "cell_type": "code",
   "execution_count": 24,
   "metadata": {},
   "outputs": [],
   "source": [
    "for file in os.listdir():  # создал коллекцию файлов из папки exam\n",
    "    if file.endswith('.txt'):  # если расширение файла - .txt\n",
    "        os.remove(file)"
   ]
  },
  {
   "cell_type": "markdown",
   "metadata": {},
   "source": [
    "## Безопасное удаление\n",
    "\n",
    "<p>Для этого надо в терминале прописать <code>pip install send2trash</code>, а затем импортировать этот модуль в свой проект.</p>"
   ]
  },
  {
   "cell_type": "code",
   "execution_count": 3,
   "metadata": {},
   "outputs": [],
   "source": [
    "import send2trash\n",
    "\n",
    "bf = open('myfile.txt', 'a')  # создает файл .txt\n",
    "bf.write('Some text')  # пишу текст в файл\n",
    "bf.close()\n",
    "\n",
    "# из библиотеки send2trash вызываю функцию send2trash\n",
    "send2trash.send2trash('myfile.txt')  # перемещаю файл в корзину"
   ]
  },
  {
   "cell_type": "code",
   "execution_count": null,
   "metadata": {},
   "outputs": [],
   "source": []
  }
 ],
 "metadata": {
  "kernelspec": {
   "display_name": "Python 3 (ipykernel)",
   "language": "python",
   "name": "python3"
  },
  "language_info": {
   "codemirror_mode": {
    "name": "ipython",
    "version": 3
   },
   "file_extension": ".py",
   "mimetype": "text/x-python",
   "name": "python",
   "nbconvert_exporter": "python",
   "pygments_lexer": "ipython3",
   "version": "3.7.1"
  }
 },
 "nbformat": 4,
 "nbformat_minor": 1
}