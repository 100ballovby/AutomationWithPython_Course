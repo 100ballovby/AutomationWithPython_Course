{
 "cells": [
  {
   "cell_type": "markdown",
   "metadata": {
    "collapsed": true
   },
   "source": [
    "# Парсинг - это хорошо\n",
    "\n",
    "<p><b>Парсинг</b> - это автоматический сбор данных в интернете с использованием программных средств.</p>\n",
    "\n",
    "<ul>\n",
    "    <li><b>webbrowser</b> - это про открытие браузера на определенной странице;</li>\n",
    "    <li><b>requests</b> - это для подключения к сайтам (программным способом);</li>\n",
    "    <li><b>Beautiful Soup</b> - это для автоматического парсинга;</li>\n",
    "    <li><b>selenium</b> - запускает браузер и управляет его работой.</li>\n",
    "</ul>"
   ]
  },
  {
   "cell_type": "code",
   "execution_count": 1,
   "metadata": {},
   "outputs": [
    {
     "data": {
      "text/plain": [
       "True"
      ]
     },
     "execution_count": 1,
     "metadata": {},
     "output_type": "execute_result"
    }
   ],
   "source": [
    "import webbrowser\n",
    "\n",
    "webbrowser.open('https://google.com/')"
   ]
  },
  {
   "cell_type": "code",
   "execution_count": 3,
   "metadata": {},
   "outputs": [
    {
     "name": "stdout",
     "output_type": "stream",
     "text": [
      "<class 'requests.models.Response'>\n",
      "404\n"
     ]
    }
   ],
   "source": [
    "import requests\n",
    "\n",
    "res = requests.get('https://google.com/fjkgjelr')\n",
    "\n",
    "print(type(res))  # тип переменной - это ответ сервера к которому вы подключаетесь\n",
    "print(res.status_code)  # статус подключения"
   ]
  },
  {
   "cell_type": "markdown",
   "metadata": {},
   "source": [
    "## Коды ответов сервера\n",
    "* **1xx** - подключение совершено, но запрос еще обрабатывается\n",
    "* **2xx** -  подключение совершено успешно\n",
    "* **3xx** - перенаправление\n",
    "* **4хх** - ошибка в запросе - 404 страница не найдена\n",
    "* **5хх** - 500, 501, 502 ошибка сервера. Запрос составлен ВЕРНО, но сервер не может его обработать.\n",
    "\n",
    "## Запросы GET и POST\n",
    "\n",
    "### GET\n",
    "\n",
    "Когда мне необходимо ПОЛУЧИТЬ какую-то информацию от сервера, я использую **GET-запрос**.\n",
    "Например: качаю картинку или музыку.\n",
    "\n",
    "### POST \n",
    "Когда мне нужно отправить информацию серверу, я использую **POST**\n",
    "Например: отсылаю форму заказа на сайте."
   ]
  },
  {
   "cell_type": "code",
   "execution_count": 4,
   "metadata": {},
   "outputs": [
    {
     "data": {
      "text/plain": [
       "200"
      ]
     },
     "execution_count": 4,
     "metadata": {},
     "output_type": "execute_result"
    }
   ],
   "source": [
    "import requests\n",
    "\n",
    "res = requests.get('https://gutenberg.org/cache/epub/1112/pg1112.txt')\n",
    "res.status_code"
   ]
  },
  {
   "cell_type": "code",
   "execution_count": null,
   "metadata": {},
   "outputs": [],
   "source": []
  }
 ],
 "metadata": {
  "kernelspec": {
   "display_name": "Python 3 (ipykernel)",
   "language": "python",
   "name": "python3"
  },
  "language_info": {
   "codemirror_mode": {
    "name": "ipython",
    "version": 3
   },
   "file_extension": ".py",
   "mimetype": "text/x-python",
   "name": "python",
   "nbconvert_exporter": "python",
   "pygments_lexer": "ipython3",
   "version": "3.7.1"
  }
 },
 "nbformat": 4,
 "nbformat_minor": 1
}