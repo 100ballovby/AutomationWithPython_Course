{
 "cells": [
  {
   "cell_type": "markdown",
   "metadata": {
    "collapsed": true
   },
   "source": [
    "# Парсинг - это хорошо\n",
    "\n",
    "<p><b>Парсинг</b> - это автоматический сбор данных в интернете с использованием программных средств.</p>\n",
    "\n",
    "<ul>\n",
    "    <li><b>webbrowser</b> - это про открытие браузера на определенной странице;</li>\n",
    "    <li><b>requests</b> - это для подключения к сайтам (программным способом);</li>\n",
    "    <li><b>Beautiful Soup</b> - это для автоматического парсинга;</li>\n",
    "    <li><b>selenium</b> - запускает браузер и управляет его работой.</li>\n",
    "</ul>"
   ]
  },
  {
   "cell_type": "code",
   "execution_count": 1,
   "metadata": {},
   "outputs": [
    {
     "data": {
      "text/plain": [
       "True"
      ]
     },
     "execution_count": 1,
     "metadata": {},
     "output_type": "execute_result"
    }
   ],
   "source": [
    "import webbrowser\n",
    "\n",
    "webbrowser.open('https://google.com/')"
   ]
  },
  {
   "cell_type": "code",
   "execution_count": 3,
   "metadata": {},
   "outputs": [
    {
     "name": "stdout",
     "output_type": "stream",
     "text": [
      "<class 'requests.models.Response'>\n",
      "404\n"
     ]
    }
   ],
   "source": [
    "import requests\n",
    "\n",
    "res = requests.get('https://google.com/fjkgjelr')\n",
    "\n",
    "print(type(res))  # тип переменной - это ответ сервера к которому вы подключаетесь\n",
    "print(res.status_code)  # статус подключения"
   ]
  },
  {
   "cell_type": "markdown",
   "metadata": {},
   "source": [
    "## Коды ответов сервера\n",
    "* **1xx** - подключение совершено, но запрос еще обрабатывается\n",
    "* **2xx** -  подключение совершено успешно\n",
    "* **3xx** - перенаправление\n",
    "* **4хх** - ошибка в запросе - 404 страница не найдена\n",
    "* **5хх** - 500, 501, 502 ошибка сервера. Запрос составлен ВЕРНО, но сервер не может его обработать.\n",
    "\n",
    "## Запросы GET и POST\n",
    "\n",
    "### GET\n",
    "\n",
    "Когда мне необходимо ПОЛУЧИТЬ какую-то информацию от сервера, я использую **GET-запрос**.\n",
    "Например: качаю картинку или музыку.\n",
    "\n",
    "### POST \n",
    "Когда мне нужно отправить информацию серверу, я использую **POST**\n",
    "Например: отсылаю форму заказа на сайте."
   ]
  },
  {
   "cell_type": "code",
   "execution_count": 9,
   "metadata": {},
   "outputs": [],
   "source": [
    "import requests\n",
    "\n",
    "res = requests.get('https://gutenberg.org/cache/epub/1112/pg1112.txt')\n",
    "\n",
    "textFile = open('RomeoAndJuliet.txt', 'wb')  # записываю в файл в байтах\n",
    "\n",
    "for block in res.iter_content(100000):  # метод iter_content получает количество байт, которое нам нужно\n",
    "    textFile.write(block)  # и записывает их в файл\n",
    "textFile.close()\n",
    "\n",
    "textFile2 = open('RomeoAndJulietTEXT.txt', 'w')  # создаю новый файл\n",
    "textFile2.write(res.text)  # записываю текст страницы в файл\n",
    "textFile2.close()"
   ]
  },
  {
   "cell_type": "markdown",
   "metadata": {},
   "source": [
    "## Метод select()\n",
    "\n",
    "<ul>\n",
    "    <li><code>'div'</code> - найти все элементы div</li>\n",
    "    <li><code>'#price'</code> - найти все элементы с ID='price'</li>\n",
    "    <li><code>'.product'</code> - найти все элементы с class=\"product\"</li>\n",
    "    <li><code>'div span'</code> - найти все элементы span, которые вложены в div</li>\n",
    "    <li><code>'div > span'</code> - найти все элементы span, которые вложены в div, но БЕЗ элементов между ними</li>\n",
    "</ul>"
   ]
  },
  {
   "cell_type": "code",
   "execution_count": 28,
   "metadata": {},
   "outputs": [
    {
     "name": "stdout",
     "output_type": "stream",
     "text": [
      "['Computing', 'People', 'Roller coasters', 'Vehicles', 'Weaponry', 'Other uses', 'See also']\n",
      "['https://wikipedia.org/wiki/Pythons', 'https://wikipedia.org/wiki/Python_(genus)', 'https://wikipedia.org#Computing', 'https://wikipedia.org#People', 'https://wikipedia.org#Roller_coasters', 'https://wikipedia.org#Vehicles', 'https://wikipedia.org#Weaponry', 'https://wikipedia.org#Other_uses', 'https://wikipedia.org#See_also', 'https://wikipedia.org/wiki/Python_(programming_language)', 'https://wikipedia.org/wiki/CMU_Common_Lisp', 'https://wikipedia.org/wiki/PERQ#PERQ_3', 'https://wikipedia.org/wiki/Python_of_Aenus', 'https://wikipedia.org/wiki/Python_(painter)', 'https://wikipedia.org/wiki/Python_of_Byzantium', 'https://wikipedia.org/wiki/Python_of_Catana', 'https://wikipedia.org/wiki/Python_Anghelo', 'https://wikipedia.org/wiki/Python_(Efteling)', 'https://wikipedia.org/wiki/Python_(Busch_Gardens_Tampa_Bay)', 'https://wikipedia.org/wiki/Python_(Coney_Island,_Cincinnati,_Ohio)', 'https://wikipedia.org/wiki/Python_(automobile_maker)', 'https://wikipedia.org/wiki/Python_(Ford_prototype)', 'https://wikipedia.org/wiki/Python_(missile)', 'https://wikipedia.org/wiki/Python_(nuclear_primary)', 'https://wikipedia.org/wiki/Colt_Python', 'https://wikipedia.org/wiki/PYTHON', 'https://wikipedia.org/wiki/Python_(film)', 'https://wikipedia.org/wiki/Python_(mythology)', 'https://wikipedia.org/wiki/Monty_Python', 'https://wikipedia.org/wiki/Python_(Monty)_Pictures', 'https://wikipedia.org/wiki/Cython', 'https://wikipedia.org/wiki/Pyton', 'https://wikipedia.org/wiki/Pithon']\n"
     ]
    }
   ],
   "source": [
    "from bs4 import BeautifulSoup\n",
    "import requests\n",
    "\n",
    "res = requests.get('https://wikipedia.org/wiki/Python')\n",
    "parser = BeautifulSoup(res.text, 'html.parser')\n",
    "\n",
    "titles = []\n",
    "# ^ вот в этот список я запишу все заголовки со страницы\n",
    "for title in parser.select('.mw-headline'):\n",
    "    titles.append(title.getText())\n",
    "\n",
    "print(titles)\n",
    "\n",
    "test_links = []\n",
    "link_file = open('wikilinks.txt', 'w')\n",
    "\n",
    "for link in parser.select('.mw-parser-output ul a'):  # нахожу все теги a, находящиеся в теге ul\n",
    "    test_links.append('https://wikipedia.org' + link.get('href'))\n",
    "    # записываю найденные ссылки в список, где к url сайта добавляю полученную ссылку\n",
    "    link_file.writelines('https://wikipedia.org' + link.get('href') + '\\n')\n",
    "\n",
    "link_file.close()\n",
    "print(test_links)"
   ]
  },
  {
   "cell_type": "markdown",
   "metadata": {},
   "source": [
    "<p>Извлекаю все заголовки с классом <code>mw-headline</code> и записываю их в список <code>titles</code></p>"
   ]
  },
  {
   "cell_type": "markdown",
   "metadata": {},
   "source": [
    "## Задача для маркетолога\n",
    "\n",
    "<p>Надо найти всех конкурентов в гугле по определенному запросу. И записать ссылки на этих конкурентов в текстовый файл.</p>"
   ]
  },
  {
   "cell_type": "code",
   "execution_count": null,
   "metadata": {},
   "outputs": [],
   "source": []
  }
 ],
 "metadata": {
  "kernelspec": {
   "display_name": "Python 3 (ipykernel)",
   "language": "python",
   "name": "python3"
  },
  "language_info": {
   "codemirror_mode": {
    "name": "ipython",
    "version": 3
   },
   "file_extension": ".py",
   "mimetype": "text/x-python",
   "name": "python",
   "nbconvert_exporter": "python",
   "pygments_lexer": "ipython3",
   "version": "3.7.1"
  }
 },
 "nbformat": 4,
 "nbformat_minor": 1
}