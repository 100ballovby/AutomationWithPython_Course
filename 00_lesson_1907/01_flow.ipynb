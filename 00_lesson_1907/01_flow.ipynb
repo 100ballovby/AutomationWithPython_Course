{
 "cells": [
  {
   "cell_type": "markdown",
   "id": "9e0e4953",
   "metadata": {},
   "source": [
    "# Поток (управляющие конструкции)\n",
    "\n",
    "<ul>\n",
    "    <li>Условия (conditions)</li>\n",
    "    <li>Циклы (loops)</li>\n",
    "</ul>"
   ]
  },
  {
   "cell_type": "markdown",
   "id": "2b7d1aa7",
   "metadata": {},
   "source": [
    "## Условие\n",
    "\n",
    "Условие делается при помощи ключевого слова <code>if</code>\n",
    "\n",
    "Классическое условие выглядит так:\n",
    "<code>\n",
    "if condition:\n",
    "    action_1\n",
    "else:\n",
    "    action_2\n",
    "</code>"
   ]
  },
  {
   "cell_type": "code",
   "execution_count": null,
   "id": "b2d35ae1",
   "metadata": {},
   "outputs": [],
   "source": [
    "age = int(input('Введите свой возраст: '))\n",
    "\n",
    "if age >= 18:  # если возраст больше 18, то делать:\n",
    "    print('Молодец!')\n",
    "elif age >= 99:\n",
    "    print('Ты слишком старый!')\n",
    "else:  # если условие НЕ сработало (то есть иначе), то делать:\n",
    "    print('Не молодец!')"
   ]
  },
  {
   "cell_type": "markdown",
   "id": "a38e11d0",
   "metadata": {},
   "source": [
    "## Логические операции\n",
    "\n",
    "Если вам нужно проверить несколько выражений.\n",
    "Логических операций 3 - И, ИЛИ, НЕ. при этом наивысший приоритет имеет операция НЕ. \n",
    "\n",
    "### Операция НЕ - логическое отрицание.\n",
    "<code>a = True</code>\n",
    "<code><b>not</b> a\n",
    "a = False\n",
    "</code>\n",
    "\n",
    "### Операция И - логическое умножение\n",
    "Составное высказывание с операцией И будет верно тогда и только тогда, когда все высказывания верные. \n",
    "\n",
    "<p>\n",
    "1 * 0 = 0<br>\n",
    "0 * 1 = 0<br>\n",
    "1 * 1 = 1<br>\n",
    "0 * 0 = 0\n",
    "</p>\n",
    "\n",
    "### Операция ИЛИ - логическое сложение\n",
    "Составное высказывание с операцией ИЛИ будет верно тогда и только тогда, когда хотя бы одно высказывание верно. \n",
    "\n",
    "<p>\n",
    "1 + 0 = 1<br>\n",
    "0 + 1 = 1<br>\n",
    "1 + 1 = 1<br>\n",
    "0 + 0 = 0\n",
    "</p>"
   ]
  },
  {
   "cell_type": "code",
   "execution_count": 2,
   "id": "2094cebf",
   "metadata": {},
   "outputs": [
    {
     "name": "stdout",
     "output_type": "stream",
     "text": [
      "Введите свой возраст: 100\n",
      "Не молодец!\n"
     ]
    }
   ],
   "source": [
    "age = int(input('Введите свой возраст: '))\n",
    "\n",
    "if age >= 18 and age <= 99:  # если возраст больше 18, то делать:\n",
    "    print('Молодец!')\n",
    "else:  # если условие НЕ сработало (то есть иначе), то делать:\n",
    "    print('Не молодец!')"
   ]
  },
  {
   "cell_type": "markdown",
   "id": "9f704811",
   "metadata": {},
   "source": [
    "## Циклы\n",
    "\n",
    "<p>Циклов два вида - есть <b>условный</b> (не знает, сколько раз повторяется), есть <b>счетный</b> (знает, сколько повторяется)</p>\n",
    "\n",
    "### Условный цикл - while\n",
    "Повторяется, пока выполняется определенное условие в его теле."
   ]
  },
  {
   "cell_type": "code",
   "execution_count": 6,
   "id": "20679fad",
   "metadata": {},
   "outputs": [
    {
     "name": "stdout",
     "output_type": "stream",
     "text": [
      "⭐️\n",
      "⭐️⭐️\n",
      "⭐️⭐️⭐️\n",
      "⭐️⭐️⭐️⭐️\n",
      "⭐️⭐️⭐️⭐️⭐️\n",
      "⭐️⭐️⭐️⭐️⭐️⭐️\n",
      "⭐️⭐️⭐️⭐️⭐️⭐️⭐️\n",
      "⭐️⭐️⭐️⭐️⭐️⭐️⭐️⭐️\n",
      "⭐️⭐️⭐️⭐️⭐️⭐️⭐️⭐️⭐️\n",
      "⭐️⭐️⭐️⭐️⭐️⭐️⭐️⭐️⭐️⭐️\n",
      "⭐️⭐️⭐️⭐️⭐️⭐️⭐️⭐️⭐️⭐️⭐️\n",
      "⭐️⭐️⭐️⭐️⭐️⭐️⭐️⭐️⭐️⭐️\n",
      "⭐️⭐️⭐️⭐️⭐️⭐️⭐️⭐️⭐️\n",
      "⭐️⭐️⭐️⭐️⭐️⭐️⭐️⭐️\n",
      "⭐️⭐️⭐️⭐️⭐️⭐️⭐️\n",
      "⭐️⭐️⭐️⭐️⭐️⭐️\n",
      "⭐️⭐️⭐️⭐️⭐️\n",
      "⭐️⭐️⭐️⭐️\n",
      "⭐️⭐️⭐️\n",
      "⭐️⭐️\n",
      "⭐️\n"
     ]
    }
   ],
   "source": [
    "stars = 1\n",
    "\n",
    "while stars <= 10:  # пока в переменной число меньше или равно 10, делать\n",
    "    print('⭐️' * stars)\n",
    "    stars += 1  # stars = stars + 1\n",
    "    \n",
    "while stars >= 1:  # пока в переменной число меньше или равно 1, делать\n",
    "    print('⭐️' * stars)\n",
    "    stars -= 1  # stars = stars - 1"
   ]
  },
  {
   "cell_type": "code",
   "execution_count": null,
   "id": "97ab89ba",
   "metadata": {},
   "outputs": [],
   "source": [
    "name = input('Write your name ')\n",
    "\n",
    "while name == 'your name':\n",
    "    name = input('Write your name ')\n",
    "print('OK')"
   ]
  },
  {
   "cell_type": "markdown",
   "id": "f74856ba",
   "metadata": {},
   "source": [
    "### Цикл for - цикл с управляющей переменной\n",
    "\n",
    "<p>Цикл <b>for</b> четко знает количество повторений, которое ему нужно совершить. Оно содержитс внутри переменной-счетчика, которая обычно называется <b>i</b>.</p>\n",
    "<p>Чтобы он работал определенное количество раз, ему надо дать итерируемый объект.</p>\n",
    "<p>Есть функция <b>range(start, stop, step)</b>. И у нее есть варианты написания</p>\n",
    "<ul>\n",
    "    <li><b>range(10)</b> - последовательность чисел от 0 до 9</li>\n",
    "    <li><b>range(100, 200)</b> - последовательность чисел от 100 до 199. Если нужно 200 включительно, то надо писать <b>range(100, 201)</b></li>\n",
    "    <li><b>range(2, 21, 2)</b> - последовательность чисел от 2 до 20, но будут будет выводиться только каждое 2 число (четные)</li>\n",
    "</ul>"
   ]
  },
  {
   "cell_type": "code",
   "execution_count": 5,
   "id": "bacc9847",
   "metadata": {},
   "outputs": [
    {
     "name": "stdout",
     "output_type": "stream",
     "text": [
      "0\n",
      "1\n",
      "2\n",
      "3\n",
      "4\n"
     ]
    }
   ],
   "source": [
    "for i in range(5):  # i <- [0, 1, 2, 3, 4]\n",
    "    print(i)"
   ]
  },
  {
   "cell_type": "code",
   "execution_count": 6,
   "id": "0be30078",
   "metadata": {},
   "outputs": [
    {
     "name": "stdout",
     "output_type": "stream",
     "text": [
      "1\n",
      "2\n",
      "3\n",
      "4\n",
      "5\n",
      "6\n",
      "7\n",
      "8\n",
      "9\n",
      "10\n",
      "11\n",
      "12\n",
      "13\n",
      "14\n",
      "15\n"
     ]
    }
   ],
   "source": [
    "for i in range(1, 16):  # i <- [1-15]\n",
    "    print(i)"
   ]
  },
  {
   "cell_type": "code",
   "execution_count": 12,
   "id": "233aa522",
   "metadata": {},
   "outputs": [
    {
     "name": "stdout",
     "output_type": "stream",
     "text": [
      "10\n",
      "9\n",
      "8\n",
      "7\n",
      "6\n",
      "5\n",
      "4\n",
      "3\n",
      "2\n",
      "1\n",
      "0\n"
     ]
    }
   ],
   "source": [
    "for i in range(10, -1, -1):  # обратный отсчет\n",
    "    print(i)"
   ]
  },
  {
   "cell_type": "markdown",
   "id": "0ae01e1f",
   "metadata": {},
   "source": [
    "### Задача - сделать таблицу умножения. Число вводит пользователь"
   ]
  },
  {
   "cell_type": "code",
   "execution_count": 16,
   "id": "df1ca859",
   "metadata": {},
   "outputs": [
    {
     "name": "stdout",
     "output_type": "stream",
     "text": [
      "Введите число: 7\n",
      "7\n",
      "14\n",
      "21\n",
      "28\n",
      "35\n",
      "42\n",
      "49\n",
      "56\n",
      "63\n",
      "70\n"
     ]
    }
   ],
   "source": [
    "number = int(input('Введите число: '))\n",
    "\n",
    "for element in range(1, 11):  # [1-10]\n",
    "    print(number * element)"
   ]
  },
  {
   "cell_type": "code",
   "execution_count": null,
   "id": "6f48df56",
   "metadata": {},
   "outputs": [],
   "source": []
  }
 ],
 "metadata": {
  "kernelspec": {
   "display_name": "Python 3 (ipykernel)",
   "language": "python",
   "name": "python3"
  },
  "language_info": {
   "codemirror_mode": {
    "name": "ipython",
    "version": 3
   },
   "file_extension": ".py",
   "mimetype": "text/x-python",
   "name": "python",
   "nbconvert_exporter": "python",
   "pygments_lexer": "ipython3",
   "version": "3.7.1"
  }
 },
 "nbformat": 4,
 "nbformat_minor": 5
}