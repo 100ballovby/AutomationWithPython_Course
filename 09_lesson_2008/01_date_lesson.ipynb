{
 "cells": [
  {
   "cell_type": "markdown",
   "metadata": {
    "collapsed": true,
    "pycharm": {
     "is_executing": true
    }
   },
   "source": [
    "# Дата и время. Обработка\n",
    "\n",
    "## модуль <code>time</code>"
   ]
  },
  {
   "cell_type": "code",
   "execution_count": 2,
   "metadata": {},
   "outputs": [
    {
     "name": "stdout",
     "output_type": "stream",
     "text": [
      "1629448167.249821\n"
     ]
    }
   ],
   "source": [
    "import time\n",
    "\n",
    "print(time.time()) # количество секунд с 01.01.1970"
   ]
  },
  {
   "cell_type": "markdown",
   "metadata": {},
   "source": [
    "<p>Функция <code>sleep(sec)</code></p>"
   ]
  },
  {
   "cell_type": "code",
   "execution_count": 6,
   "metadata": {},
   "outputs": [
    {
     "name": "stdout",
     "output_type": "stream",
     "text": [
      "5\n",
      "4\n",
      "3\n",
      "2\n",
      "1\n",
      "0\n"
     ]
    }
   ],
   "source": [
    "for i in range(5, -1, -1):\n",
    "    print(i)\n",
    "    time.sleep(1)\n"
   ]
  },
  {
   "cell_type": "code",
   "execution_count": 8,
   "metadata": {},
   "outputs": [
    {
     "name": "stdout",
     "output_type": "stream",
     "text": [
      "5\n",
      "4\n",
      "3\n",
      "2\n",
      "1\n",
      "0\n",
      "Прошло 6.028 секунд.\n"
     ]
    }
   ],
   "source": [
    "start = time.time()  # записывает точку во времени\n",
    "\n",
    "for i in range(5, -1, -1):\n",
    "    print(i)\n",
    "    time.sleep(1)\n",
    "    \n",
    "end = time.time()  # фиксируется время окончания работы программы\n",
    "print(f'Прошло {round(end - start, 3)} секунд.')"
   ]
  },
  {
   "cell_type": "markdown",
   "metadata": {},
   "source": [
    "## Модуль <code>datetime</code>"
   ]
  },
  {
   "cell_type": "code",
   "execution_count": 10,
   "metadata": {},
   "outputs": [
    {
     "name": "stdout",
     "output_type": "stream",
     "text": [
      "2021-08-20 11:53:54.939408\n"
     ]
    }
   ],
   "source": [
    "from datetime import datetime\n",
    "\n",
    "print(datetime.now())"
   ]
  },
  {
   "cell_type": "markdown",
   "metadata": {},
   "source": [
    "<p>получаю точку во времени с текущей датой и временем.</p>"
   ]
  },
  {
   "cell_type": "code",
   "execution_count": 14,
   "metadata": {},
   "outputs": [
    {
     "name": "stdout",
     "output_type": "stream",
     "text": [
      "20.8, 11:56\n"
     ]
    }
   ],
   "source": [
    "today = datetime.now()\n",
    "print(f'{today.day}.{today.month}, {today.hour}:{today.minute}')"
   ]
  },
  {
   "cell_type": "markdown",
   "metadata": {},
   "source": [
    "<p>Можно создавать свои точки во времени. Точки будут сооздаваться как временной штамп</p>"
   ]
  },
  {
   "cell_type": "code",
   "execution_count": 18,
   "metadata": {},
   "outputs": [
    {
     "name": "stdout",
     "output_type": "stream",
     "text": [
      "True\n"
     ]
    }
   ],
   "source": [
    "newYear_2022 = datetime(year=2022, month=1, day=1, \n",
    "                        hour=0, minute=0, second=0)\n",
    "today = datetime.now()\n",
    "\n",
    "print(newYear_2022 > today)"
   ]
  },
  {
   "cell_type": "markdown",
   "metadata": {},
   "source": [
    "<p>Можно считать количество времени, которое прошло между событиями.</p>"
   ]
  },
  {
   "cell_type": "code",
   "execution_count": 16,
   "metadata": {},
   "outputs": [
    {
     "name": "stdout",
     "output_type": "stream",
     "text": [
      "133 days, 12:00:50.343109\n"
     ]
    }
   ],
   "source": [
    "print(newYear_2022 - today)"
   ]
  },
  {
   "cell_type": "markdown",
   "metadata": {},
   "source": [
    "### Задача: посчитать, сколько дней живет человек"
   ]
  },
  {
   "cell_type": "code",
   "execution_count": 28,
   "metadata": {},
   "outputs": [
    {
     "name": "stdout",
     "output_type": "stream",
     "text": [
      "Ты живешь: 6003 дней, 144072 часов, 8644320 минут\n"
     ]
    }
   ],
   "source": [
    "def count_your_life(day, month, year):\n",
    "    birth_day = datetime(year, month, day)\n",
    "    now = datetime.now()\n",
    "    \n",
    "    res = today - birth_day\n",
    "    print(f'Ты живешь: {res.days} дней, {res.days * 24} часов, {res.days * 1440} минут')\n",
    "    \n",
    "count_your_life(14, 3, 2005)"
   ]
  },
  {
   "cell_type": "markdown",
   "metadata": {},
   "source": [
    "<p>Можно попросить программу ждать до определенного времени.</p>"
   ]
  },
  {
   "cell_type": "code",
   "execution_count": 30,
   "metadata": {},
   "outputs": [
    {
     "name": "stdout",
     "output_type": "stream",
     "text": [
      "время прошло\n"
     ]
    }
   ],
   "source": [
    "one_minute = datetime(2021, 8, 20, 12, 13)\n",
    "\n",
    "while one_minute > datetime.now():\n",
    "    time.sleep(1)\n",
    "\n",
    "print('время прошло')"
   ]
  },
  {
   "cell_type": "markdown",
   "metadata": {},
   "source": [
    "<p>Сделать из строчки время</p>"
   ]
  },
  {
   "cell_type": "code",
   "execution_count": 38,
   "metadata": {},
   "outputs": [
    {
     "data": {
      "text/plain": [
       "datetime.datetime(2021, 8, 20, 12, 43)"
      ]
     },
     "execution_count": 38,
     "metadata": {},
     "output_type": "execute_result"
    }
   ],
   "source": [
    "datetime.strptime('20/8/2021, 12:43', '%d/%m/%Y, %H:%M')"
   ]
  },
  {
   "cell_type": "code",
   "execution_count": null,
   "metadata": {},
   "outputs": [],
   "source": []
  }
 ],
 "metadata": {
  "kernelspec": {
   "display_name": "Python 3 (ipykernel)",
   "language": "python",
   "name": "python3"
  },
  "language_info": {
   "codemirror_mode": {
    "name": "ipython",
    "version": 3
   },
   "file_extension": ".py",
   "mimetype": "text/x-python",
   "name": "python",
   "nbconvert_exporter": "python",
   "pygments_lexer": "ipython3",
   "version": "3.7.1"
  }
 },
 "nbformat": 4,
 "nbformat_minor": 1
}
