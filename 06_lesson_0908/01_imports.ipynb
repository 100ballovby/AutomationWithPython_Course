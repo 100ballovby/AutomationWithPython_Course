{
 "cells": [
  {
   "cell_type": "markdown",
   "metadata": {
    "collapsed": true
   },
   "source": [
    "## Импорты\n",
    "\n",
    "<p>Работа с библиотеками основана на импортах.</p>\n",
    "<p>Импортировать модуль - вставить текст модуля в основной код вашей программы.</p>"
   ]
  },
  {
   "cell_type": "code",
   "execution_count": 2,
   "metadata": {},
   "outputs": [
    {
     "data": {
      "text/plain": [
       "1"
      ]
     },
     "execution_count": 2,
     "metadata": {},
     "output_type": "execute_result"
    }
   ],
   "source": [
    "import random\n",
    "\n",
    "randint = 40\n",
    "random.randint(1, 10)\n"
   ]
  },
  {
   "cell_type": "markdown",
   "metadata": {},
   "source": [
    "<p>У вас никогда не будет конфликта имен, потому что перед вызовом функции из модуля, нужно писать имя модуля.</p>\n",
    "\n",
    "### Вариант №2\n",
    "<p>Создавать алиас для названия модуля.</p>"
   ]
  },
  {
   "cell_type": "code",
   "execution_count": 5,
   "metadata": {},
   "outputs": [
    {
     "data": {
      "text/plain": [
       "4"
      ]
     },
     "execution_count": 5,
     "metadata": {},
     "output_type": "execute_result"
    }
   ],
   "source": [
    "import random as r\n",
    "\n",
    "choice = True\n",
    "r.choice([1, 2, 3, 4])"
   ]
  },
  {
   "cell_type": "markdown",
   "metadata": {},
   "source": [
    "### Вариант №3\n",
    "\n",
    "<p>Иморт отдельных функций модуля.</p>"
   ]
  },
  {
   "cell_type": "code",
   "execution_count": 9,
   "metadata": {},
   "outputs": [
    {
     "name": "stdout",
     "output_type": "stream",
     "text": [
      "2401\n",
      "12\n",
      "3.141592653589793\n"
     ]
    }
   ],
   "source": [
    "from math import sqrt, gcd, pi\n",
    "\n",
    "\n",
    "def sqrt(n):\n",
    "    return(n ** 2)\n",
    "\n",
    "print(sqrt(49))\n",
    "print(gcd(12, 24))\n",
    "print(pi)"
   ]
  },
  {
   "cell_type": "markdown",
   "metadata": {},
   "source": [
    "### Плохо тем, что существует опасность конфликта имен функций модуля и ваших переменных\n",
    "\n",
    "### Вариант №4 (НЕ ИСПОЛЬЗОВАТЬ ВАПЩЕ)\n",
    "<p>Люди ленивые и им лень доставать отдельные функции. Поэтому они импортируют модуль целиком.</p>"
   ]
  },
  {
   "cell_type": "code",
   "execution_count": 14,
   "metadata": {},
   "outputs": [
    {
     "name": "stdout",
     "output_type": "stream",
     "text": [
      "Рисую пол 2.55\n"
     ]
    }
   ],
   "source": [
    "from math import *\n",
    "\n",
    "def floor(n):\n",
    "    return f'Рисую пол {n}'\n",
    "\n",
    "print(floor(2.55))"
   ]
  },
  {
   "cell_type": "code",
   "execution_count": null,
   "metadata": {},
   "outputs": [],
   "source": [
    "from turtle import *\n",
    "from random import randint\n",
    "\n",
    "t = Turtle()\n",
    "angle()\n",
    "\n",
    "for i in range()"
   ]
  }
 ],
 "metadata": {
  "kernelspec": {
   "display_name": "Python 3 (ipykernel)",
   "language": "python",
   "name": "python3"
  },
  "language_info": {
   "codemirror_mode": {
    "name": "ipython",
    "version": 3
   },
   "file_extension": ".py",
   "mimetype": "text/x-python",
   "name": "python",
   "nbconvert_exporter": "python",
   "pygments_lexer": "ipython3",
   "version": "3.7.1"
  }
 },
 "nbformat": 4,
 "nbformat_minor": 1
}