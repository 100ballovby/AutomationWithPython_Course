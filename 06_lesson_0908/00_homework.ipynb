{
 "cells": [
  {
   "cell_type": "markdown",
   "metadata": {
    "collapsed": true
   },
   "source": [
    "## Парсинг названий и цен dominos.by\n",
    "\n",
    "<p>Для выполнения работы нужны две библиотеки. Устанавливаем их через терминал:</p>\n",
    "<p><code>pip install beautifulsoup4 requests</code></p>\n",
    "<p>Первая нужна непосредственно для парсинга, вторая для подключения к сайту.</p>"
   ]
  },
  {
   "cell_type": "code",
   "execution_count": 3,
   "metadata": {},
   "outputs": [],
   "source": [
    "from requests import get\n",
    "from bs4 import BeautifulSoup"
   ]
  },
  {
   "cell_type": "markdown",
   "metadata": {},
   "source": [
    "<p>Импортирую библиотеки в проект.</p>\n",
    "<p>Теперь необходимо подключиться к сайту и создать сам парсер.</p>"
   ]
  },
  {
   "cell_type": "code",
   "execution_count": 4,
   "metadata": {},
   "outputs": [],
   "source": [
    "url = 'https://dominos.by'\n",
    "res = get(url)\n",
    "\n",
    "parser = BeautifulSoup(res.text, 'html.parser')"
   ]
  },
  {
   "cell_type": "markdown",
   "metadata": {},
   "source": [
    "<p>Теперь я должен найти названия пицц и их стоимость. Для этого необходимо открыть панель разработчика в браузере и посмотреть названия классов, которыми размечены цены и названия.</p>\n",
    "<ul>\n",
    "    <li>Названия - <code>product-card__title</code></li>\n",
    "    <li>Цены - <code>product-card__modification-info-price</code></li>\n",
    "</ul>"
   ]
  },
  {
   "cell_type": "code",
   "execution_count": 19,
   "metadata": {},
   "outputs": [],
   "source": [
    "names = []\n",
    "prices = []\n",
    "\n",
    "for name in parser.select('.product-card__title'):\n",
    "    names.append(name.text)\n",
    "    \n",
    "for price in parser.select('.product-card__modification-info-price'):\n",
    "    prices.append(price.text[:5].replace('.', ','))"
   ]
  },
  {
   "cell_type": "markdown",
   "metadata": {},
   "source": [
    "<p>Создам словарь, в который напихаю значения из списков.</p>"
   ]
  },
  {
   "cell_type": "code",
   "execution_count": 20,
   "metadata": {},
   "outputs": [],
   "source": [
    "pizzas = {}"
   ]
  },
  {
   "cell_type": "markdown",
   "metadata": {},
   "source": [
    "<p>Я буду перебирать оба списка. И значение и первого списка станет ключем, а значение из второго - значением для словаря.</p>\n",
    "\n",
    "<p>Добавление в словарь новой пары - <code>dictionary[new_key] = new_value</code></p>"
   ]
  },
  {
   "cell_type": "code",
   "execution_count": 21,
   "metadata": {},
   "outputs": [],
   "source": [
    "for i in range(len(prices)):\n",
    "    pizzas[names[i]] = prices[i]\n",
    " "
   ]
  },
  {
   "cell_type": "markdown",
   "metadata": {},
   "source": [
    "<p>Хочу вывести результат.</p>"
   ]
  },
  {
   "cell_type": "code",
   "execution_count": 22,
   "metadata": {},
   "outputs": [
    {
     "name": "stdout",
     "output_type": "stream",
     "text": [
      "🍕Биф BBQnew: 💰25,99💰;\n",
      "🍕Карбонарахит: 💰28,89💰;\n",
      "🍕Колбаски и опятаnew: 💰10,99💰;\n",
      "🍕Говядина BURGER: 💰28,89💰;\n",
      "🍕Чикен Ранч: 💰19,99💰;\n",
      "🍕Доминос Фирменнаяхит: 💰30,99💰;\n",
      "🍕Мексиканская: 💰25,99💰;\n",
      "🍕Прованс: 💰27,89💰;\n",
      "🍕Мюнхенская: 💰32,89💰;\n",
      "🍕Время и песто: 💰18,99💰;\n",
      "🍕5 Сыров: 💰25,99💰;\n",
      "🍕Ривьера: 💰25,99💰;\n",
      "🍕Фермерская: 💰25,89💰;\n",
      "🍕Грибная с голубым сыром: 💰30,89💰;\n",
      "🍕Спайси: 💰25,99💰;\n",
      "🍕Цыпленок Доминатор: 💰28,89💰;\n",
      "🍕ЭкстраваганZZа: 💰27,99💰;\n",
      "🍕Супер Пепперони: 💰25,99💰;\n",
      "🍕Барбекю: 💰27,89💰;\n",
      "🍕Кантри: 💰31,89💰;\n",
      "🍕Гипнотика: 💰25,99💰;\n",
      "🍕Пепперони Блюз: 💰19,99💰;\n",
      "🍕Тоскана: 💰25,99💰;\n",
      "🍕Чикен Карри: 💰31,89💰;\n",
      "🍕  Креветки с ананасами: 💰25,99💰;\n",
      "🍕Овощная: 💰19,99💰;\n",
      "🍕МитZZа: 💰27,99💰;\n",
      "🍕Баварская: 💰25,89💰;\n",
      "🍕Сытная: 💰30,89💰;\n",
      "🍕Гавайская: 💰22,99💰;\n",
      "🍕Хатняя: 💰32,89💰;\n",
      "🍕Маргарита: 💰19,99💰;\n",
      "🍕Пепперони: 💰20,89💰;\n",
      "🍕Ветчина и грибы: 💰24,89💰;\n",
      "🍕Лесная: 💰19,99💰;\n"
     ]
    }
   ],
   "source": [
    "for key, value in pizzas.items():\n",
    "    print(f'🍕{key}: 💰{value}💰;')"
   ]
  },
  {
   "cell_type": "code",
   "execution_count": null,
   "metadata": {},
   "outputs": [],
   "source": []
  }
 ],
 "metadata": {
  "kernelspec": {
   "display_name": "Python 3 (ipykernel)",
   "language": "python",
   "name": "python3"
  },
  "language_info": {
   "codemirror_mode": {
    "name": "ipython",
    "version": 3
   },
   "file_extension": ".py",
   "mimetype": "text/x-python",
   "name": "python",
   "nbconvert_exporter": "python",
   "pygments_lexer": "ipython3",
   "version": "3.7.1"
  }
 },
 "nbformat": 4,
 "nbformat_minor": 1
}
